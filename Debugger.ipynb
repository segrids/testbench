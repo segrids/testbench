{
 "cells": [
  {
   "cell_type": "markdown",
   "metadata": {},
   "source": [
    "# The Debugger\n",
    "\n",
    "We use the Arduino Due board as a Hardware Debugger for the SWD debug protocol. SWD debug is an alternative by ARM to the JTAG debug protocol. The device under test can be any device with an SWD debug port. We use a second Arduino Due to demonstrate how it works.\n",
    "\n",
    "## Wiring\n",
    "\n",
    "Connect pin 3 and pin 4 of the Debugger with pins SWCLK and SWDIO of the DEBUG connector of the target.\n",
    "\n",
    "![SWD Debug Wiring](pdf/SwdDebugWiring.jpg)\n",
    "\n",
    "## Program the devices\n",
    "\n",
    "Connect the Debugger and DUT to the USB board of your linux computer.\n",
    "Assume that the Debugger is at `/dev/ttyACM0`, the DUT at `/dev/ttyACM1`. Run all shell commands from the `testbench` folder. To program the devices:\n",
    "\n",
    "    make sam3x8e-flash PORT=/dev/ttyACM0\n",
    "    make sam3x8e-flash PORT=/dev/ttyACM1\n",
    "\n",
    "## Connect from the testbench\n",
    "\n",
    "First change to the `testbench` folder:"
   ]
  },
  {
   "cell_type": "code",
   "execution_count": 4,
   "metadata": {},
   "outputs": [
    {
     "name": "stdout",
     "output_type": "stream",
     "text": [
      "/home/frank/proj/testbench\n"
     ]
    }
   ],
   "source": [
    "cd .."
   ]
  },
  {
   "cell_type": "code",
   "execution_count": 5,
   "metadata": {},
   "outputs": [],
   "source": [
    "import py"
   ]
  },
  {
   "cell_type": "code",
   "execution_count": null,
   "metadata": {},
   "outputs": [],
   "source": [
    "l = py.loader.loader(\"/dev/ttyACM1\")\n",
    "s = py.Sam3xSerial(\"/dev/ttyACM0\")\n",
    "d = py.debug.debugger.Debugger(s)"
   ]
  },
  {
   "cell_type": "code",
   "execution_count": 6,
   "metadata": {},
   "outputs": [
    {
     "ename": "NameError",
     "evalue": "name 'd' is not defined",
     "output_type": "error",
     "traceback": [
      "\u001b[0;31m---------------------------------------------------------------------------\u001b[0m",
      "\u001b[0;31mNameError\u001b[0m                                 Traceback (most recent call last)",
      "Cell \u001b[0;32mIn[6], line 1\u001b[0m\n\u001b[0;32m----> 1\u001b[0m \u001b[43md\u001b[49m\u001b[38;5;241m.\u001b[39mis_halted()\n",
      "\u001b[0;31mNameError\u001b[0m: name 'd' is not defined"
     ]
    }
   ],
   "source": [
    "d.is_halted()"
   ]
  },
  {
   "cell_type": "code",
   "execution_count": null,
   "metadata": {},
   "outputs": [],
   "source": [
    "d.halt()\n",
    "hex(d.R0())"
   ]
  },
  {
   "cell_type": "markdown",
   "metadata": {},
   "source": [
    "# Use of source debugging functionality"
   ]
  },
  {
   "cell_type": "code",
   "execution_count": 1,
   "metadata": {},
   "outputs": [],
   "source": [
    "import serial\n",
    "import testbench\n",
    "import testbench.debug"
   ]
  },
  {
   "cell_type": "code",
   "execution_count": 2,
   "metadata": {},
   "outputs": [],
   "source": [
    "s = serial.Serial('/dev/ttyACM0', 115200, timeout=3)\n",
    "t = testbench.Tester()\n",
    "t.connect('/dev/ttyACM1')"
   ]
  },
  {
   "cell_type": "code",
   "execution_count": 3,
   "metadata": {},
   "outputs": [],
   "source": [
    "d = testbench.debug.ELFDebugger('target/flash.elf', s, setup=True)"
   ]
  },
  {
   "cell_type": "code",
   "execution_count": 4,
   "metadata": {},
   "outputs": [
    {
     "data": {
      "text/plain": [
       "False"
      ]
     },
     "execution_count": 4,
     "metadata": {},
     "output_type": "execute_result"
    }
   ],
   "source": [
    "d.is_halted()"
   ]
  },
  {
   "cell_type": "code",
   "execution_count": 5,
   "metadata": {},
   "outputs": [],
   "source": [
    "d.halt()"
   ]
  },
  {
   "cell_type": "code",
   "execution_count": 6,
   "metadata": {},
   "outputs": [
    {
     "data": {
      "text/plain": [
       "True"
      ]
     },
     "execution_count": 6,
     "metadata": {},
     "output_type": "execute_result"
    }
   ],
   "source": [
    "d.is_halted()"
   ]
  },
  {
   "cell_type": "markdown",
   "metadata": {},
   "source": [
    "## Viewing source code"
   ]
  },
  {
   "cell_type": "code",
   "execution_count": 7,
   "metadata": {},
   "outputs": [
    {
     "name": "stdout",
     "output_type": "stream",
     "text": [
      "/home/david/target/due/projects/example-apdu/lib/uart.c:23:0\n",
      "================================================================================\n",
      "     \n",
      "     \u001b[37m/** Receive one character. **/\u001b[39;49;00m\n",
      "     \u001b[36mint\u001b[39;49;00m \u001b[32muart_receive_uint8\u001b[39;49;00m(Uart* p_uart, \u001b[36muint8_t\u001b[39;49;00m *p) {\n",
      ">>>  \t\u001b[34mwhile\u001b[39;49;00m ((p_uart->UART_SR & \u001b[34m0x01\u001b[39;49;00m) == \u001b[34m0\u001b[39;49;00m) { }\n",
      "     \n",
      "     \t*p = p_uart->UART_RHR;\n",
      "     \n",
      "================================================================================\n"
     ]
    }
   ],
   "source": [
    "d.view_source()"
   ]
  },
  {
   "cell_type": "code",
   "execution_count": 8,
   "metadata": {},
   "outputs": [],
   "source": [
    "d.resume()"
   ]
  },
  {
   "cell_type": "code",
   "execution_count": 9,
   "metadata": {},
   "outputs": [
    {
     "data": {
      "text/plain": [
       "False"
      ]
     },
     "execution_count": 9,
     "metadata": {},
     "output_type": "execute_result"
    }
   ],
   "source": [
    "d.is_halted()"
   ]
  },
  {
   "cell_type": "markdown",
   "metadata": {},
   "source": [
    "## Setting Flash Patch Breakpoints (FPBs) and stepping through assembly code"
   ]
  },
  {
   "cell_type": "code",
   "execution_count": 10,
   "metadata": {},
   "outputs": [],
   "source": [
    "bp1 = d.set_breakpoint_source('blake2s.S', 29)"
   ]
  },
  {
   "cell_type": "markdown",
   "metadata": {},
   "source": [
    "Blake command will time out as the MCU will hit a breakpoint."
   ]
  },
  {
   "cell_type": "code",
   "execution_count": 11,
   "metadata": {},
   "outputs": [
    {
     "ename": "Timeout",
     "evalue": "received 0 bytes in 3 seconds but expected 34",
     "output_type": "error",
     "traceback": [
      "\u001b[0;31m---------------------------------------------------------------------------\u001b[0m",
      "\u001b[0;31mTimeout\u001b[0m                                   Traceback (most recent call last)",
      "\u001b[0;32m<ipython-input-11-ac1000d67778>\u001b[0m in \u001b[0;36m<module>\u001b[0;34m()\u001b[0m\n\u001b[0;32m----> 1\u001b[0;31m \u001b[0mt\u001b[0m\u001b[0;34m.\u001b[0m\u001b[0mblake2s\u001b[0m\u001b[0;34m(\u001b[0m\u001b[0;36m0x20001000\u001b[0m\u001b[0;34m,\u001b[0m \u001b[0;36m0x100\u001b[0m\u001b[0;34m)\u001b[0m\u001b[0;34m\u001b[0m\u001b[0;34m\u001b[0m\u001b[0m\n\u001b[0m",
      "\u001b[0;32m/home/david/target/due/projects/example-apdu/testbench/tester.py\u001b[0m in \u001b[0;36mblake2s\u001b[0;34m(self, address, length)\u001b[0m\n\u001b[1;32m     55\u001b[0m \t\t\"\"\"\n\u001b[1;32m     56\u001b[0m         \u001b[0;31m# TODO: assert length is multiple of 64?\u001b[0m\u001b[0;34m\u001b[0m\u001b[0;34m\u001b[0m\u001b[0;34m\u001b[0m\u001b[0m\n\u001b[0;32m---> 57\u001b[0;31m         \u001b[0mres\u001b[0m\u001b[0;34m,\u001b[0m \u001b[0mstatus\u001b[0m \u001b[0;34m=\u001b[0m \u001b[0mself\u001b[0m\u001b[0;34m.\u001b[0m\u001b[0mapdu\u001b[0m\u001b[0;34m.\u001b[0m\u001b[0msend\u001b[0m\u001b[0;34m(\u001b[0m\u001b[0;34mb'L'\u001b[0m\u001b[0;34m,\u001b[0m \u001b[0mbu32\u001b[0m\u001b[0;34m(\u001b[0m\u001b[0maddress\u001b[0m\u001b[0;34m)\u001b[0m \u001b[0;34m+\u001b[0m \u001b[0mbu32\u001b[0m\u001b[0;34m(\u001b[0m\u001b[0mlength\u001b[0m\u001b[0;34m)\u001b[0m\u001b[0;34m,\u001b[0m \u001b[0;36m32\u001b[0m\u001b[0;34m)\u001b[0m\u001b[0;34m\u001b[0m\u001b[0;34m\u001b[0m\u001b[0m\n\u001b[0m\u001b[1;32m     58\u001b[0m         \u001b[0;32massert\u001b[0m \u001b[0mstatus\u001b[0m \u001b[0;34m==\u001b[0m \u001b[0;36m0x9000\u001b[0m\u001b[0;34m\u001b[0m\u001b[0;34m\u001b[0m\u001b[0m\n\u001b[1;32m     59\u001b[0m         \u001b[0;32mreturn\u001b[0m \u001b[0mres\u001b[0m\u001b[0;34m\u001b[0m\u001b[0;34m\u001b[0m\u001b[0m\n",
      "\u001b[0;32m/home/david/target/due/projects/example-apdu/testbench/apdu.py\u001b[0m in \u001b[0;36msend\u001b[0;34m(self, ins, data, res_len, read_response)\u001b[0m\n\u001b[1;32m     32\u001b[0m                 raise Timeout(\n\u001b[1;32m     33\u001b[0m                     'received {} bytes in {} seconds but expected {}'.format(\n\u001b[0;32m---> 34\u001b[0;31m                         len(res), self.serial.timeout, res_len + 2))\n\u001b[0m\u001b[1;32m     35\u001b[0m             \u001b[0;32mreturn\u001b[0m \u001b[0mres\u001b[0m\u001b[0;34m[\u001b[0m\u001b[0;34m:\u001b[0m\u001b[0;34m-\u001b[0m\u001b[0;36m2\u001b[0m\u001b[0;34m]\u001b[0m\u001b[0;34m,\u001b[0m \u001b[0mub16\u001b[0m\u001b[0;34m(\u001b[0m\u001b[0mres\u001b[0m\u001b[0;34m[\u001b[0m\u001b[0;34m-\u001b[0m\u001b[0;36m2\u001b[0m\u001b[0;34m:\u001b[0m\u001b[0;34m]\u001b[0m\u001b[0;34m)\u001b[0m\u001b[0;34m\u001b[0m\u001b[0;34m\u001b[0m\u001b[0m\n",
      "\u001b[0;31mTimeout\u001b[0m: received 0 bytes in 3 seconds but expected 34"
     ]
    }
   ],
   "source": [
    "t.blake2s(0x20001000, 0x100)"
   ]
  },
  {
   "cell_type": "code",
   "execution_count": 12,
   "metadata": {},
   "outputs": [
    {
     "data": {
      "text/plain": [
       "True"
      ]
     },
     "execution_count": 12,
     "metadata": {},
     "output_type": "execute_result"
    }
   ],
   "source": [
    "d.is_halted()"
   ]
  },
  {
   "cell_type": "code",
   "execution_count": 13,
   "metadata": {},
   "outputs": [
    {
     "name": "stdout",
     "output_type": "stream",
     "text": [
      "/home/david/target/due/projects/example-apdu/target/blake2s.S:29:0\n",
      "================================================================================\n",
      "     @ h[0] ^= \u001b[34m0x0101000\u001b[39;49;00m ^ \u001b[34m32\u001b[39;49;00m\n",
      "     ldr R3, [R0, \u001b[37m#0]\u001b[39;49;00m\n",
      "     mov R4, \u001b[37m#0x01000000\u001b[39;49;00m\n",
      ">>>  add R4, \u001b[37m#0x00010000\u001b[39;49;00m\n",
      "     add R4, \u001b[37m#32\u001b[39;49;00m\n",
      "     eor R3, R4\n",
      "     str R3, [R0, \u001b[37m#0]\u001b[39;49;00m\n",
      "================================================================================\n"
     ]
    }
   ],
   "source": [
    "d.view_source()"
   ]
  },
  {
   "cell_type": "code",
   "execution_count": 14,
   "metadata": {},
   "outputs": [],
   "source": [
    "d.step()"
   ]
  },
  {
   "cell_type": "code",
   "execution_count": 15,
   "metadata": {},
   "outputs": [
    {
     "name": "stdout",
     "output_type": "stream",
     "text": [
      "/home/david/target/due/projects/example-apdu/target/blake2s.S:30:0\n",
      "================================================================================\n",
      "     ldr R3, [R0, \u001b[37m#0]\u001b[39;49;00m\n",
      "     mov R4, \u001b[37m#0x01000000\u001b[39;49;00m\n",
      "     add R4, \u001b[37m#0x00010000\u001b[39;49;00m\n",
      ">>>  add R4, \u001b[37m#32\u001b[39;49;00m\n",
      "     eor R3, R4\n",
      "     str R3, [R0, \u001b[37m#0]\u001b[39;49;00m\n",
      "     @ free R3, R4\n",
      "================================================================================\n"
     ]
    }
   ],
   "source": [
    "d.view_source()"
   ]
  },
  {
   "cell_type": "code",
   "execution_count": 16,
   "metadata": {},
   "outputs": [],
   "source": [
    "d.resume()"
   ]
  },
  {
   "cell_type": "code",
   "execution_count": 17,
   "metadata": {},
   "outputs": [
    {
     "data": {
      "text/plain": [
       "False"
      ]
     },
     "execution_count": 17,
     "metadata": {},
     "output_type": "execute_result"
    }
   ],
   "source": [
    "d.is_halted()"
   ]
  },
  {
   "cell_type": "markdown",
   "metadata": {},
   "source": [
    "Clear the serial port buffer of the now-sent answer to the previously issued Blake command."
   ]
  },
  {
   "cell_type": "code",
   "execution_count": 18,
   "metadata": {},
   "outputs": [
    {
     "data": {
      "text/plain": [
       "b'\\xfb3?\\xf4\\x03\\x08K\\xb3=l\\x19\\x18+-\\x0fH\\xa6\\xccW\\xf2\\x10\\xf7Rd\\xe9\\xfexX\\x8a\\xf0\\xe1\\x0f\\x00\\x90'"
      ]
     },
     "execution_count": 18,
     "metadata": {},
     "output_type": "execute_result"
    }
   ],
   "source": [
    "t.apdu.serial.read_all()"
   ]
  },
  {
   "cell_type": "markdown",
   "metadata": {},
   "source": [
    "## Setting source code breakpoints\n",
    "Set a breakpoint at the start of the apdu echo command handler. (line 400 in `main.c`)"
   ]
  },
  {
   "cell_type": "code",
   "execution_count": 19,
   "metadata": {},
   "outputs": [],
   "source": [
    "bp2 = d.set_breakpoint_source('main.c', 324)"
   ]
  },
  {
   "cell_type": "code",
   "execution_count": 20,
   "metadata": {},
   "outputs": [
    {
     "data": {
      "text/plain": [
       "False"
      ]
     },
     "execution_count": 20,
     "metadata": {},
     "output_type": "execute_result"
    }
   ],
   "source": [
    "d.is_halted()"
   ]
  },
  {
   "cell_type": "code",
   "execution_count": 21,
   "metadata": {},
   "outputs": [
    {
     "ename": "Timeout",
     "evalue": "received 0 bytes in 3 seconds but expected 6",
     "output_type": "error",
     "traceback": [
      "\u001b[0;31m---------------------------------------------------------------------------\u001b[0m",
      "\u001b[0;31mTimeout\u001b[0m                                   Traceback (most recent call last)",
      "\u001b[0;32m<ipython-input-21-8c43f442add3>\u001b[0m in \u001b[0;36m<module>\u001b[0;34m()\u001b[0m\n\u001b[0;32m----> 1\u001b[0;31m \u001b[0mt\u001b[0m\u001b[0;34m.\u001b[0m\u001b[0mecho\u001b[0m\u001b[0;34m(\u001b[0m\u001b[0;34mb'test'\u001b[0m\u001b[0;34m)\u001b[0m\u001b[0;34m\u001b[0m\u001b[0;34m\u001b[0m\u001b[0m\n\u001b[0m",
      "\u001b[0;32m/home/david/target/due/projects/example-apdu/testbench/tester.py\u001b[0m in \u001b[0;36mecho\u001b[0;34m(self, data)\u001b[0m\n\u001b[1;32m     44\u001b[0m     \u001b[0;32mdef\u001b[0m \u001b[0mecho\u001b[0m\u001b[0;34m(\u001b[0m\u001b[0mself\u001b[0m\u001b[0;34m,\u001b[0m \u001b[0mdata\u001b[0m\u001b[0;34m)\u001b[0m\u001b[0;34m:\u001b[0m\u001b[0;34m\u001b[0m\u001b[0;34m\u001b[0m\u001b[0m\n\u001b[1;32m     45\u001b[0m         \u001b[0;34m\"\"\"Send `data` that ought to be echoed back.\"\"\"\u001b[0m\u001b[0;34m\u001b[0m\u001b[0;34m\u001b[0m\u001b[0m\n\u001b[0;32m---> 46\u001b[0;31m         \u001b[0mres\u001b[0m\u001b[0;34m,\u001b[0m \u001b[0mstatus\u001b[0m \u001b[0;34m=\u001b[0m \u001b[0mself\u001b[0m\u001b[0;34m.\u001b[0m\u001b[0mapdu\u001b[0m\u001b[0;34m.\u001b[0m\u001b[0msend\u001b[0m\u001b[0;34m(\u001b[0m\u001b[0;34mb'E'\u001b[0m\u001b[0;34m,\u001b[0m \u001b[0mdata\u001b[0m\u001b[0;34m,\u001b[0m \u001b[0mlen\u001b[0m\u001b[0;34m(\u001b[0m\u001b[0mdata\u001b[0m\u001b[0;34m)\u001b[0m\u001b[0;34m)\u001b[0m\u001b[0;34m\u001b[0m\u001b[0;34m\u001b[0m\u001b[0m\n\u001b[0m\u001b[1;32m     47\u001b[0m         \u001b[0;32massert\u001b[0m \u001b[0mstatus\u001b[0m \u001b[0;34m==\u001b[0m \u001b[0;36m0x9000\u001b[0m\u001b[0;34m\u001b[0m\u001b[0;34m\u001b[0m\u001b[0m\n\u001b[1;32m     48\u001b[0m \u001b[0;34m\u001b[0m\u001b[0m\n",
      "\u001b[0;32m/home/david/target/due/projects/example-apdu/testbench/apdu.py\u001b[0m in \u001b[0;36msend\u001b[0;34m(self, ins, data, res_len, read_response)\u001b[0m\n\u001b[1;32m     32\u001b[0m                 raise Timeout(\n\u001b[1;32m     33\u001b[0m                     'received {} bytes in {} seconds but expected {}'.format(\n\u001b[0;32m---> 34\u001b[0;31m                         len(res), self.serial.timeout, res_len + 2))\n\u001b[0m\u001b[1;32m     35\u001b[0m             \u001b[0;32mreturn\u001b[0m \u001b[0mres\u001b[0m\u001b[0;34m[\u001b[0m\u001b[0;34m:\u001b[0m\u001b[0;34m-\u001b[0m\u001b[0;36m2\u001b[0m\u001b[0;34m]\u001b[0m\u001b[0;34m,\u001b[0m \u001b[0mub16\u001b[0m\u001b[0;34m(\u001b[0m\u001b[0mres\u001b[0m\u001b[0;34m[\u001b[0m\u001b[0;34m-\u001b[0m\u001b[0;36m2\u001b[0m\u001b[0;34m:\u001b[0m\u001b[0;34m]\u001b[0m\u001b[0;34m)\u001b[0m\u001b[0;34m\u001b[0m\u001b[0;34m\u001b[0m\u001b[0m\n",
      "\u001b[0;31mTimeout\u001b[0m: received 0 bytes in 3 seconds but expected 6"
     ]
    }
   ],
   "source": [
    "t.echo(b'test')"
   ]
  },
  {
   "cell_type": "code",
   "execution_count": 22,
   "metadata": {},
   "outputs": [
    {
     "data": {
      "text/plain": [
       "True"
      ]
     },
     "execution_count": 22,
     "metadata": {},
     "output_type": "execute_result"
    }
   ],
   "source": [
    "d.is_halted()"
   ]
  },
  {
   "cell_type": "code",
   "execution_count": 23,
   "metadata": {},
   "outputs": [
    {
     "name": "stdout",
     "output_type": "stream",
     "text": [
      "/home/david/target/due/projects/example-apdu/target/main.c:324:0\n",
      "================================================================================\n",
      "     \t}\n",
      "     \n",
      "     } \u001b[34melse\u001b[39;49;00m \u001b[34mif\u001b[39;49;00m (apdu.ins == \u001b[33m'\u001b[39;49;00m\u001b[33mE\u001b[39;49;00m\u001b[33m'\u001b[39;49;00m) {\n",
      ">>>  \t\u001b[34mfor\u001b[39;49;00m (\u001b[36mint\u001b[39;49;00m i = \u001b[34m0\u001b[39;49;00m; i < apdu.le; i++) {\n",
      "     \t\tuart_send_uint8(p_uart, apdu.data[i]);\n",
      "     \t}\n",
      "     \n",
      "================================================================================\n"
     ]
    }
   ],
   "source": [
    "d.view_source()"
   ]
  },
  {
   "cell_type": "code",
   "execution_count": 24,
   "metadata": {},
   "outputs": [
    {
     "data": {
      "text/plain": [
       "69"
      ]
     },
     "execution_count": 24,
     "metadata": {},
     "output_type": "execute_result"
    }
   ],
   "source": [
    "d.env.apdu.ins"
   ]
  },
  {
   "cell_type": "code",
   "execution_count": 25,
   "metadata": {},
   "outputs": [
    {
     "data": {
      "text/plain": [
       "'E'"
      ]
     },
     "execution_count": 25,
     "metadata": {},
     "output_type": "execute_result"
    }
   ],
   "source": [
    "chr(69)"
   ]
  },
  {
   "cell_type": "code",
   "execution_count": 26,
   "metadata": {},
   "outputs": [
    {
     "data": {
      "text/plain": [
       "'0x20087fa8'"
      ]
     },
     "execution_count": 26,
     "metadata": {},
     "output_type": "execute_result"
    }
   ],
   "source": [
    "hex(d.env.p_uart)"
   ]
  },
  {
   "cell_type": "code",
   "execution_count": 27,
   "metadata": {},
   "outputs": [],
   "source": [
    "d.resume()"
   ]
  },
  {
   "cell_type": "code",
   "execution_count": 28,
   "metadata": {},
   "outputs": [
    {
     "data": {
      "text/plain": [
       "False"
      ]
     },
     "execution_count": 28,
     "metadata": {},
     "output_type": "execute_result"
    }
   ],
   "source": [
    "d.is_halted()"
   ]
  },
  {
   "cell_type": "code",
   "execution_count": 29,
   "metadata": {},
   "outputs": [],
   "source": [
    "d.unset_breakpoint(bp2)"
   ]
  },
  {
   "cell_type": "code",
   "execution_count": 30,
   "metadata": {},
   "outputs": [
    {
     "data": {
      "text/plain": [
       "b'test\\x00\\x90'"
      ]
     },
     "execution_count": 30,
     "metadata": {},
     "output_type": "execute_result"
    }
   ],
   "source": [
    "t.apdu.serial.read_all()"
   ]
  },
  {
   "cell_type": "code",
   "execution_count": 31,
   "metadata": {},
   "outputs": [
    {
     "data": {
      "text/plain": [
       "b'testtwo'"
      ]
     },
     "execution_count": 31,
     "metadata": {},
     "output_type": "execute_result"
    }
   ],
   "source": [
    "t.echo(b'testtwo')"
   ]
  },
  {
   "cell_type": "markdown",
   "metadata": {},
   "source": [
    "# Links\n",
    "\n",
    "[Arduino Due Pinout](https://docs.arduino.cc/resources/pinouts/A000056-full-pinout.pdf?_gl=1*87z8vp*_up*MQ..*_ga*ODk2NjY4NTY2LjE3Mzg4MzAwODQ.*_ga_NEXN8H46L5*MTczODgzMDA4MS4xLjAuMTczODgzMDA4MS4wLjAuMTMwMzUyMTYxMA..)\n"
   ]
  },
  {
   "cell_type": "code",
   "execution_count": null,
   "metadata": {},
   "outputs": [],
   "source": []
  }
 ],
 "metadata": {
  "kernelspec": {
   "display_name": "Python 3 (ipykernel)",
   "language": "python",
   "name": "python3"
  },
  "language_info": {
   "codemirror_mode": {
    "name": "ipython",
    "version": 3
   },
   "file_extension": ".py",
   "mimetype": "text/x-python",
   "name": "python",
   "nbconvert_exporter": "python",
   "pygments_lexer": "ipython3",
   "version": "3.11.2"
  }
 },
 "nbformat": 4,
 "nbformat_minor": 4
}
