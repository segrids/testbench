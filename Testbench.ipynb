{
 "cells": [
  {
   "cell_type": "markdown",
   "id": "7f7cc4dd-81dd-4660-8506-10d7f5d2c819",
   "metadata": {},
   "source": [
    "# Testbench"
   ]
  },
  {
   "cell_type": "markdown",
   "id": "ab6487d5-b160-42d8-83c3-8d332e36097e",
   "metadata": {},
   "source": [
    "# Requirements\n",
    "\n",
    "## Packages\n",
    "\n",
    "    sudo apt install python3-serial\n",
    "    sudo apt install gcc-arm-none-eabi binutils-arm-none-eabi\n",
    "    pip install progress\n",
    "\n",
    "## Permissions\n",
    "\n",
    "Add yourself to the `dialout` group:\n",
    "\n",
    "    sudo usermod -a -G dialout $USER"
   ]
  },
  {
   "cell_type": "markdown",
   "id": "a5fcff9f-4c2b-4a53-bd58-d3bf69c928a1",
   "metadata": {},
   "source": [
    "# (Slave) Interface\n",
    "\n",
    "## Slave interface\n",
    "\n",
    "The target device is foremost a slave of the testbench. \n",
    "The **slave interface** is the interface of target where it receives it's APDUs.\n",
    "The slave interface can be chosen by a **jumper conguration**.\n",
    "The jumper configuration is evaluated in the `main()` function in order to call `slave_init()` with the suitable `protocol` argument.\n",
    "\n",
    "The following are target invariant:\n",
    "\n",
    "    - apdu.c, apdu.h (apdu_receive(), apdu_loop())\n",
    "    - `slave_interface.h`\n",
    "    - `slave_interface` methods except `slave_init()`.\n",
    "    "
   ]
  },
  {
   "cell_type": "markdown",
   "id": "4cec8068-891a-4c0e-9f99-b394b4ab853b",
   "metadata": {},
   "source": [
    "# Sam3x8e (Arduino Due)\n",
    "\n",
    "## Building\n",
    "\n",
    "Run in the `testbench` folder:\n",
    "\n",
    "    make bootloader\n",
    "    make sam3x8e-libflash\n",
    "    make sam3x8e-flash.elf\n",
    "\n",
    "## Programming\n",
    "\n",
    "The python package contains flashing without an external programmer. Run in the `testbench` folder:\n",
    "\n",
    "    make sam3x8e-flash PORT=ttyACM0\n",
    "\n",
    "## Testing\n",
    "\n",
    "Sanity tests with the Loader client: "
   ]
  },
  {
   "cell_type": "code",
   "execution_count": 4,
   "id": "73f02a5e-8aa3-441c-acf4-d1ca3a92b8e3",
   "metadata": {},
   "outputs": [],
   "source": [
    "from py import *\n",
    "l = loader.loader(\"/dev/ttyACM0\")"
   ]
  },
  {
   "cell_type": "code",
   "execution_count": 5,
   "id": "2111173e-2ef7-4069-b438-4adbd55ab1be",
   "metadata": {},
   "outputs": [
    {
     "data": {
      "text/plain": [
       "b'abc'"
      ]
     },
     "execution_count": 5,
     "metadata": {},
     "output_type": "execute_result"
    }
   ],
   "source": [
    "l.echo(b\"abc\")"
   ]
  },
  {
   "cell_type": "code",
   "execution_count": 7,
   "id": "f80eb782-4560-4a3e-a7f7-55c20289b7a8",
   "metadata": {},
   "outputs": [
    {
     "data": {
      "text/plain": [
       "'0x29e50d2e'"
      ]
     },
     "execution_count": 7,
     "metadata": {},
     "output_type": "execute_result"
    }
   ],
   "source": [
    "hex(l.read_word(0x2000_0000))"
   ]
  },
  {
   "cell_type": "markdown",
   "id": "27dce595-5146-4c9d-8f97-dcd275ed4663",
   "metadata": {},
   "source": [
    "## C Standard library\n",
    "\n",
    "Findet sich für `arm-none-eabi` unter `/usr/lib/gcc/arm-none-eabi/12.2.1/include`"
   ]
  },
  {
   "cell_type": "code",
   "execution_count": 1,
   "id": "89f206b6-d131-4b5c-bee1-f6b78b5cdb0d",
   "metadata": {},
   "outputs": [
    {
     "name": "stdout",
     "output_type": "stream",
     "text": [
      "alloca.h   elf.h       ieeefp.h    newlib.h           signal.h     tar.h\n",
      "_ansi.h    envlock.h   inttypes.h  _newlib_version.h  spawn.h      termios.h\n",
      "argz.h     envz.h      langinfo.h  paths.h            \u001b[0m\u001b[01;34mssp\u001b[0m/         tgmath.h\n",
      "ar.h       errno.h     libgen.h    pthread.h          stdatomic.h  threads.h\n",
      "assert.h   fastmath.h  limits.h    pwd.h              stdint.h     time.h\n",
      "\u001b[01;34mbits\u001b[0m/      fcntl.h     locale.h    reent.h            stdio_ext.h  unctrl.h\n",
      "\u001b[01;34mc++\u001b[0m/       fenv.h      \u001b[01;34mmachine\u001b[0m/    regdef.h           stdio.h      unistd.h\n",
      "complex.h  fnmatch.h   malloc.h    regex.h            stdlib.h     utime.h\n",
      "cpio.h     getopt.h    math.h      \u001b[01;34mrpc\u001b[0m/               string.h     utmp.h\n",
      "ctype.h    glob.h      memory.h    sched.h            strings.h    wchar.h\n",
      "devctl.h   grp.h       \u001b[01;34mnano\u001b[0m/       search.h           \u001b[01;34msys\u001b[0m/         wctype.h\n",
      "dirent.h   iconv.h     ndbm.h      setjmp.h           _syslist.h   wordexp.h\n"
     ]
    }
   ],
   "source": [
    "ls /usr/lib/arm-none-eabi/include/"
   ]
  },
  {
   "cell_type": "code",
   "execution_count": null,
   "id": "65de1bf8-e866-4c78-8a88-7c4e5b89d152",
   "metadata": {},
   "outputs": [],
   "source": []
  },
  {
   "cell_type": "markdown",
   "id": "9b17ef5b-938c-437e-be17-b4e3ab34c517",
   "metadata": {},
   "source": [
    "# HT32F52\n",
    "\n",
    "## Hardware\n",
    "\n",
    "We use the [HT32 Starter Kit](https://www.holtek.com.tw/WebAPI/bf86d133-ffb5-41e0-9ec2-0a9a29f075a7?_gl=1*x1jh1m*_ga*NTQwODExMTU3LjE3Mzg1OTIxMjg.*_ga_QJGHM3VFKP*MTczODU5MjEyNy4xLjAuMTczODU5MjEyNy4wLjAuMA..*_ga_2HPXRBSN2N*MTczODU5MjEyNy4xLjAuMTczODU5MjEyNy4wLjAuMA..).\n",
    "\n",
    "Instead of the e-Link32 lite interface on the ESK32-30501 eval board, we use a seperate [CP210x USB to UART bridge] with the follwing connections:\n",
    "\n",
    " CP210x | ESK32-30501 | HT32F52352\n",
    " ------ | ----------- | ----------\n",
    " 3V3    | VDD         | ...\n",
    " DTR    | nRST        | ...\n",
    " RXI    | ...         | ...\n",
    " TXD    | ...         | ...\n",
    " GND    | GND         | ...\n",
    "\n",
    "## Juper Configuration\n",
    "\n",
    "- To start the ISP bootloader at power up, connect pin A9 to GND.\n",
    "- To select SPI as slave interface connect pin C1 to VDD.\n",
    "\n",
    "## Python Classes\n",
    "\n",
    "Class        | Python Module          | Brief description\n",
    "------------ | ---------------------- | ------------------------------------------\n",
    "ISP          | py/ht32/isp.py         | Bootloader client for use in flash.py\n",
    "Ht32Serial   | py/ht32/ht32serial.py  | Wraps around serial.Serial\n",
    "Apdu         | py/apdu.py             | APDU client\n",
    "Target       | py/target.py           | Standard commands or prototypes\n",
    "H32Target    | py/ht32/ht32target.py  | HT32 specific commands or implementations\n",
    "\n",
    "## Building and programming\n",
    "\n",
    "In the `testbench`folder call:\n",
    "\n",
    "    make ht32-flash.bin\n",
    "    make ht32-flash PORT=ttyUSB0\n",
    "\n",
    "## Testing"
   ]
  },
  {
   "cell_type": "code",
   "execution_count": 8,
   "id": "5c9ce251-e117-4a2d-89f4-e9838f488ddb",
   "metadata": {},
   "outputs": [],
   "source": [
    "import py"
   ]
  },
  {
   "cell_type": "code",
   "execution_count": 9,
   "id": "18fca183-1bde-4689-8c83-bb96a48e8392",
   "metadata": {},
   "outputs": [],
   "source": [
    "s = py.Ht32Serial(\"/dev/ttyUSB0\")"
   ]
  },
  {
   "cell_type": "code",
   "execution_count": 10,
   "id": "368b22b3-e72f-4d1d-a4e5-181bdb6be420",
   "metadata": {},
   "outputs": [],
   "source": [
    "h = loader.Loader(s)"
   ]
  },
  {
   "cell_type": "code",
   "execution_count": 11,
   "id": "5908baa8-96f4-4f5d-a0cf-776da6bc69bc",
   "metadata": {},
   "outputs": [
    {
     "data": {
      "text/plain": [
       "b'abcdefg'"
      ]
     },
     "execution_count": 11,
     "metadata": {},
     "output_type": "execute_result"
    }
   ],
   "source": [
    "h.echo(b\"abcdefg\")"
   ]
  },
  {
   "cell_type": "markdown",
   "id": "3262758c-6212-44a8-a96c-7842e593cf86",
   "metadata": {},
   "source": [
    "# Using I2C as slave interface"
   ]
  },
  {
   "cell_type": "code",
   "execution_count": 9,
   "id": "2ad7ddba-101d-4a11-95f5-28ab621edbee",
   "metadata": {},
   "outputs": [
    {
     "name": "stdout",
     "output_type": "stream",
     "text": [
      "0be3853 (HEAD -> interface) sam i2c communication baeteen master and slave is working\n"
     ]
    }
   ],
   "source": [
    "%%bash\n",
    "git log --oneline --decorate -n 1"
   ]
  },
  {
   "cell_type": "code",
   "execution_count": 10,
   "id": "ae4f0edf-c37c-4e6d-9ef7-9a8d591c130e",
   "metadata": {},
   "outputs": [
    {
     "name": "stdout",
     "output_type": "stream",
     "text": [
      "ebaed0d46ed90aece87aa2e1bc5e3253ab83b740  sam3x8e/ram.bin\n"
     ]
    }
   ],
   "source": [
    "%%bash\n",
    "shasum sam3x8e/ram.bin"
   ]
  },
  {
   "cell_type": "code",
   "execution_count": 4,
   "id": "7c127ed8-ba0a-464c-8465-6f25fd24a4ed",
   "metadata": {},
   "outputs": [],
   "source": [
    "import testbench\n",
    "import testbench.adapter"
   ]
  },
  {
   "cell_type": "code",
   "execution_count": 3,
   "id": "3cd5935d-054b-4493-8cff-dd4d8c73da88",
   "metadata": {},
   "outputs": [],
   "source": [
    "s0 = testbench.rpcserial.Serial('/dev/ttyACM0') # the debugger, connected to master "
   ]
  },
  {
   "cell_type": "code",
   "execution_count": 4,
   "id": "dd641724-ae8e-4b92-b105-5b13c2c20523",
   "metadata": {},
   "outputs": [],
   "source": [
    "s1 = testbench.rpcserial.Serial('/dev/ttyACM1') # the slave\n",
    "s2 = testbench.rpcserial.Serial('/dev/ttyACM2') # the master"
   ]
  },
  {
   "cell_type": "code",
   "execution_count": 11,
   "id": "de2d50c6-6915-4a30-9ef7-d101112f25e7",
   "metadata": {},
   "outputs": [],
   "source": [
    "rl = testbench.sam3x8e.ramloader.RamLoader(s2)"
   ]
  },
  {
   "cell_type": "code",
   "execution_count": 12,
   "id": "813c763c-c8fd-42a8-bfda-badc1481e64f",
   "metadata": {},
   "outputs": [],
   "source": [
    "rl.load(0x20071000, 'sam3x8e/ram.bin', go=True) # takes a few seconds"
   ]
  },
  {
   "cell_type": "code",
   "execution_count": 13,
   "id": "c9777c05-53d1-44f8-ad87-d0a3d3a12f2d",
   "metadata": {},
   "outputs": [],
   "source": [
    "rl = testbench.sam3x8e.ramloader.RamLoader(s1)"
   ]
  },
  {
   "cell_type": "code",
   "execution_count": 14,
   "id": "6ae2e382-045b-40d0-8246-fa9794c7d203",
   "metadata": {},
   "outputs": [],
   "source": [
    "rl.load(0x20071000, 'sam3x8e/ram.bin', go=True) # takes a few seconds"
   ]
  },
  {
   "cell_type": "code",
   "execution_count": 15,
   "id": "aa9bcca0-d613-4091-92d2-da9036eaf027",
   "metadata": {},
   "outputs": [],
   "source": [
    "t1 = testbench.target.Target(s1)"
   ]
  },
  {
   "cell_type": "code",
   "execution_count": 16,
   "id": "3ede6c0a-06c9-4d44-b25f-0bb154e95344",
   "metadata": {},
   "outputs": [],
   "source": [
    "t1.i2c_open()"
   ]
  },
  {
   "cell_type": "code",
   "execution_count": 17,
   "id": "cbb41533-82d2-4f5e-b9b9-146059e6d369",
   "metadata": {},
   "outputs": [
    {
     "ename": "Timeout",
     "evalue": "Received 0 bytes in 2 seconds but expected 2.",
     "output_type": "error",
     "traceback": [
      "\u001b[0;31m---------------------------------------------------------------------------\u001b[0m",
      "\u001b[0;31mTimeout\u001b[0m                                   Traceback (most recent call last)",
      "\u001b[0;32m<ipython-input-17-9eac6927c775>\u001b[0m in \u001b[0;36m<module>\u001b[0;34m()\u001b[0m\n\u001b[0;32m----> 1\u001b[0;31m \u001b[0mt1\u001b[0m\u001b[0;34m.\u001b[0m\u001b[0mi2c_send\u001b[0m\u001b[0;34m(\u001b[0m\u001b[0;34mb'ABCDEFGHIJ'\u001b[0m\u001b[0;34m)\u001b[0m\u001b[0;34m\u001b[0m\u001b[0;34m\u001b[0m\u001b[0m\n\u001b[0m",
      "\u001b[0;32m/home/frank/proj/due/sam3x8e-example/testbench/target.py\u001b[0m in \u001b[0;36mi2c_send\u001b[0;34m(self, data)\u001b[0m\n\u001b[1;32m    274\u001b[0m \u001b[0;34m\u001b[0m\u001b[0m\n\u001b[1;32m    275\u001b[0m     \u001b[0;32mdef\u001b[0m \u001b[0mi2c_send\u001b[0m\u001b[0;34m(\u001b[0m\u001b[0mself\u001b[0m\u001b[0;34m,\u001b[0m \u001b[0mdata\u001b[0m\u001b[0;34m)\u001b[0m\u001b[0;34m:\u001b[0m\u001b[0;34m\u001b[0m\u001b[0;34m\u001b[0m\u001b[0m\n\u001b[0;32m--> 276\u001b[0;31m         \u001b[0mres\u001b[0m\u001b[0;34m,\u001b[0m \u001b[0mstatus\u001b[0m \u001b[0;34m=\u001b[0m \u001b[0mself\u001b[0m\u001b[0;34m.\u001b[0m\u001b[0mapdu\u001b[0m\u001b[0;34m.\u001b[0m\u001b[0msend\u001b[0m\u001b[0;34m(\u001b[0m\u001b[0mcla\u001b[0m\u001b[0;34m=\u001b[0m\u001b[0;34mb'T'\u001b[0m\u001b[0;34m,\u001b[0m \u001b[0mins\u001b[0m\u001b[0;34m=\u001b[0m\u001b[0;34mb'W'\u001b[0m\u001b[0;34m,\u001b[0m \u001b[0mdata\u001b[0m\u001b[0;34m=\u001b[0m\u001b[0mdata\u001b[0m\u001b[0;34m,\u001b[0m \u001b[0mres_len\u001b[0m\u001b[0;34m=\u001b[0m\u001b[0;36m0\u001b[0m\u001b[0;34m)\u001b[0m\u001b[0;34m\u001b[0m\u001b[0;34m\u001b[0m\u001b[0m\n\u001b[0m\u001b[1;32m    277\u001b[0m         \u001b[0;32massert\u001b[0m \u001b[0mstatus\u001b[0m \u001b[0;34m==\u001b[0m \u001b[0;36m0x9000\u001b[0m\u001b[0;34m\u001b[0m\u001b[0;34m\u001b[0m\u001b[0m\n\u001b[1;32m    278\u001b[0m \u001b[0;34m\u001b[0m\u001b[0m\n",
      "\u001b[0;32m/home/frank/proj/due/sam3x8e-example/testbench/apdu.py\u001b[0m in \u001b[0;36msend\u001b[0;34m(self, ins, data, res_len, cla, read_response)\u001b[0m\n\u001b[1;32m     78\u001b[0m                 raise Timeout(\n\u001b[1;32m     79\u001b[0m                     'Received {} bytes in {} seconds but expected {}.'.format(\n\u001b[0;32m---> 80\u001b[0;31m                         len(res), self.serial.timeout, res_len + 2))\n\u001b[0m\u001b[1;32m     81\u001b[0m             \u001b[0;32mreturn\u001b[0m \u001b[0mres\u001b[0m\u001b[0;34m[\u001b[0m\u001b[0;34m:\u001b[0m\u001b[0;34m-\u001b[0m\u001b[0;36m2\u001b[0m\u001b[0;34m]\u001b[0m\u001b[0;34m,\u001b[0m \u001b[0mub16\u001b[0m\u001b[0;34m(\u001b[0m\u001b[0mres\u001b[0m\u001b[0;34m[\u001b[0m\u001b[0;34m-\u001b[0m\u001b[0;36m2\u001b[0m\u001b[0;34m:\u001b[0m\u001b[0;34m]\u001b[0m\u001b[0;34m)\u001b[0m\u001b[0;34m\u001b[0m\u001b[0;34m\u001b[0m\u001b[0m\n\u001b[1;32m     82\u001b[0m \u001b[0;34m\u001b[0m\u001b[0m\n",
      "\u001b[0;31mTimeout\u001b[0m: Received 0 bytes in 2 seconds but expected 2."
     ]
    }
   ],
   "source": [
    "t1.i2c_send(b'ABCDEFGHIJ') # will not return within 2 seconds"
   ]
  },
  {
   "cell_type": "code",
   "execution_count": 20,
   "id": "1c5d7b52-5975-4315-be25-6cbcc53ab98b",
   "metadata": {},
   "outputs": [],
   "source": [
    "a = testbench.adapter.Adapter(s2)"
   ]
  },
  {
   "cell_type": "code",
   "execution_count": 21,
   "id": "c2964389-2b6f-4df3-97e1-00fed4b143dc",
   "metadata": {},
   "outputs": [],
   "source": [
    "a.open()"
   ]
  },
  {
   "cell_type": "code",
   "execution_count": 22,
   "id": "af2c47fa-3943-4443-a98e-be476e22de20",
   "metadata": {},
   "outputs": [
    {
     "data": {
      "text/plain": [
       "b'ABCDEFGHIJ'"
      ]
     },
     "execution_count": 22,
     "metadata": {},
     "output_type": "execute_result"
    }
   ],
   "source": [
    "a.read(10)"
   ]
  },
  {
   "cell_type": "code",
   "execution_count": 23,
   "id": "31ed020e-a2ec-4f96-87cb-779a268625bc",
   "metadata": {},
   "outputs": [
    {
     "data": {
      "text/plain": [
       "b'\\x00\\x90'"
      ]
     },
     "execution_count": 23,
     "metadata": {},
     "output_type": "execute_result"
    }
   ],
   "source": [
    "s1.read_all() # late response to `t1.i2c_send()`"
   ]
  },
  {
   "cell_type": "code",
   "execution_count": 24,
   "id": "ff885e93-ebf1-48ff-842a-8f70505fc549",
   "metadata": {},
   "outputs": [
    {
     "ename": "Timeout",
     "evalue": "Received 0 bytes in 2 seconds but expected 6.",
     "output_type": "error",
     "traceback": [
      "\u001b[0;31m---------------------------------------------------------------------------\u001b[0m",
      "\u001b[0;31mTimeout\u001b[0m                                   Traceback (most recent call last)",
      "\u001b[0;32m<ipython-input-24-52cd8e5dd260>\u001b[0m in \u001b[0;36m<module>\u001b[0;34m()\u001b[0m\n\u001b[0;32m----> 1\u001b[0;31m \u001b[0mt1\u001b[0m\u001b[0;34m.\u001b[0m\u001b[0mi2c_receive\u001b[0m\u001b[0;34m(\u001b[0m\u001b[0;36m4\u001b[0m\u001b[0;34m)\u001b[0m\u001b[0;34m\u001b[0m\u001b[0;34m\u001b[0m\u001b[0m\n\u001b[0m",
      "\u001b[0;32m/home/frank/proj/due/sam3x8e-example/testbench/target.py\u001b[0m in \u001b[0;36mi2c_receive\u001b[0;34m(self, length)\u001b[0m\n\u001b[1;32m    278\u001b[0m \u001b[0;34m\u001b[0m\u001b[0m\n\u001b[1;32m    279\u001b[0m     \u001b[0;32mdef\u001b[0m \u001b[0mi2c_receive\u001b[0m\u001b[0;34m(\u001b[0m\u001b[0mself\u001b[0m\u001b[0;34m,\u001b[0m \u001b[0mlength\u001b[0m\u001b[0;34m)\u001b[0m\u001b[0;34m:\u001b[0m\u001b[0;34m\u001b[0m\u001b[0;34m\u001b[0m\u001b[0m\n\u001b[0;32m--> 280\u001b[0;31m         \u001b[0mres\u001b[0m\u001b[0;34m,\u001b[0m \u001b[0mstatus\u001b[0m \u001b[0;34m=\u001b[0m \u001b[0mself\u001b[0m\u001b[0;34m.\u001b[0m\u001b[0mapdu\u001b[0m\u001b[0;34m.\u001b[0m\u001b[0msend\u001b[0m\u001b[0;34m(\u001b[0m\u001b[0mcla\u001b[0m\u001b[0;34m=\u001b[0m\u001b[0;34mb'T'\u001b[0m\u001b[0;34m,\u001b[0m \u001b[0mins\u001b[0m\u001b[0;34m=\u001b[0m\u001b[0;34mb'R'\u001b[0m\u001b[0;34m,\u001b[0m \u001b[0mres_len\u001b[0m\u001b[0;34m=\u001b[0m\u001b[0mlength\u001b[0m\u001b[0;34m)\u001b[0m\u001b[0;34m\u001b[0m\u001b[0;34m\u001b[0m\u001b[0m\n\u001b[0m\u001b[1;32m    281\u001b[0m         \u001b[0;32massert\u001b[0m \u001b[0mstatus\u001b[0m \u001b[0;34m==\u001b[0m \u001b[0;36m0x9000\u001b[0m\u001b[0;34m\u001b[0m\u001b[0;34m\u001b[0m\u001b[0m\n\u001b[1;32m    282\u001b[0m         \u001b[0;32mreturn\u001b[0m \u001b[0mres\u001b[0m\u001b[0;34m\u001b[0m\u001b[0;34m\u001b[0m\u001b[0m\n",
      "\u001b[0;32m/home/frank/proj/due/sam3x8e-example/testbench/apdu.py\u001b[0m in \u001b[0;36msend\u001b[0;34m(self, ins, data, res_len, cla, read_response)\u001b[0m\n\u001b[1;32m     78\u001b[0m                 raise Timeout(\n\u001b[1;32m     79\u001b[0m                     'Received {} bytes in {} seconds but expected {}.'.format(\n\u001b[0;32m---> 80\u001b[0;31m                         len(res), self.serial.timeout, res_len + 2))\n\u001b[0m\u001b[1;32m     81\u001b[0m             \u001b[0;32mreturn\u001b[0m \u001b[0mres\u001b[0m\u001b[0;34m[\u001b[0m\u001b[0;34m:\u001b[0m\u001b[0;34m-\u001b[0m\u001b[0;36m2\u001b[0m\u001b[0;34m]\u001b[0m\u001b[0;34m,\u001b[0m \u001b[0mub16\u001b[0m\u001b[0;34m(\u001b[0m\u001b[0mres\u001b[0m\u001b[0;34m[\u001b[0m\u001b[0;34m-\u001b[0m\u001b[0;36m2\u001b[0m\u001b[0;34m:\u001b[0m\u001b[0;34m]\u001b[0m\u001b[0;34m)\u001b[0m\u001b[0;34m\u001b[0m\u001b[0;34m\u001b[0m\u001b[0m\n\u001b[1;32m     82\u001b[0m \u001b[0;34m\u001b[0m\u001b[0m\n",
      "\u001b[0;31mTimeout\u001b[0m: Received 0 bytes in 2 seconds but expected 6."
     ]
    }
   ],
   "source": [
    "t1.i2c_receive(4)"
   ]
  },
  {
   "cell_type": "code",
   "execution_count": 25,
   "id": "3e64cffc-7961-4c25-a93b-34cefcbef10a",
   "metadata": {},
   "outputs": [],
   "source": [
    "a.write(b'abcd')"
   ]
  },
  {
   "cell_type": "code",
   "execution_count": 26,
   "id": "e5931222-6428-4384-86f3-7d9ad4769fc8",
   "metadata": {},
   "outputs": [
    {
     "data": {
      "text/plain": [
       "b'abcd\\x00\\x90'"
      ]
     },
     "execution_count": 26,
     "metadata": {},
     "output_type": "execute_result"
    }
   ],
   "source": [
    "s1.read_all()"
   ]
  },
  {
   "cell_type": "code",
   "execution_count": 27,
   "id": "0342b5c9-e280-43f6-81d1-4681b292c93f",
   "metadata": {},
   "outputs": [],
   "source": [
    "s0.close()\n",
    "s1.close()\n",
    "s2.close()"
   ]
  },
  {
   "cell_type": "markdown",
   "id": "33ebc797-3da0-48e8-8ad6-07230db42e88",
   "metadata": {},
   "source": [
    "# APDU via I2C\n",
    "Bridge Due Pins A5 and A6 to selct I2C as slave interface."
   ]
  },
  {
   "cell_type": "code",
   "execution_count": 1,
   "id": "c7c5c791-4551-4b15-8912-bd0ac27c5005",
   "metadata": {},
   "outputs": [
    {
     "name": "stdout",
     "output_type": "stream",
     "text": [
      "ace1e26 (HEAD -> interface, origin/interface) handle apdus on I2C now working on SAM3X8E with slave address 0x11\n"
     ]
    }
   ],
   "source": [
    "%%bash\n",
    "git log --oneline --decorate -n 1"
   ]
  },
  {
   "cell_type": "code",
   "execution_count": 2,
   "id": "899f819f-21d5-4062-b64e-9c649c6e86c8",
   "metadata": {},
   "outputs": [
    {
     "name": "stdout",
     "output_type": "stream",
     "text": [
      "ac5f5ef7b26175b06b96ba56efba8e8f4fd8b982  sam3x8e/flash.bin\n"
     ]
    }
   ],
   "source": [
    "%%bash\n",
    "shasum sam3x8e/flash.bin"
   ]
  },
  {
   "cell_type": "code",
   "execution_count": 5,
   "id": "adb270c8-2281-4a18-badf-152d5ced5462",
   "metadata": {},
   "outputs": [],
   "source": [
    "s2 = testbench.rpcserial.Serial('/dev/ttyACM2') # the master"
   ]
  },
  {
   "cell_type": "code",
   "execution_count": 6,
   "id": "d332f153-a8fa-469f-b1a7-2a2b13dc92a0",
   "metadata": {},
   "outputs": [],
   "source": [
    "a = testbench.adapter.Adapter(s2)"
   ]
  },
  {
   "cell_type": "code",
   "execution_count": 7,
   "id": "27c1365c-9dfc-44e7-a04a-13e08356a544",
   "metadata": {},
   "outputs": [],
   "source": [
    "a.open()"
   ]
  },
  {
   "cell_type": "code",
   "execution_count": 8,
   "id": "ad69bd4b-69bb-4edd-8e85-067cbee22077",
   "metadata": {},
   "outputs": [],
   "source": [
    "t = testbench.target.Target(a)"
   ]
  },
  {
   "cell_type": "code",
   "execution_count": 9,
   "id": "e76cb82e-2d59-4917-977d-f866bfec34d8",
   "metadata": {},
   "outputs": [
    {
     "data": {
      "text/plain": [
       "b'abcdefg'"
      ]
     },
     "execution_count": 9,
     "metadata": {},
     "output_type": "execute_result"
    }
   ],
   "source": [
    "t.echo(b'abcdefg')"
   ]
  },
  {
   "cell_type": "markdown",
   "id": "87bc0ec0-8bca-4e78-8ee4-3675d2923e3a",
   "metadata": {},
   "source": [
    "# Tinycryptlib\n",
    "\n",
    "## EC Data structures\n",
    "\n",
    "tc_sha256_state_struct\n",
    "\n",
    "Functions to change between data types\n",
    "\n",
    "    uECC_vli_bytesToNative\n",
    "    uECC_vli_nativeToBytes\n",
    "\n",
    "Data types\n",
    "\n",
    "    uECC_word_t             unsigned int\n",
    "    struct uECC_Curve_t;    see lib/include/tinycrypt/ecc.h\n",
    "\n",
    "```\n",
    "struct uECC_Curve_t {\n",
    "    wordcount_t num_words;\n",
    "    wordcount_t num_bytes;\n",
    "    bitcount_t num_n_bits;\n",
    "    uECC_word_t p[NUM_ECC_WORDS];\n",
    "    uECC_word_t n[NUM_ECC_WORDS];\n",
    "    uECC_word_t G[NUM_ECC_WORDS * 2];\n",
    "    uECC_word_t b[NUM_ECC_WORDS];\n",
    "    void (*double_jacobian)(uECC_word_t * X1, uECC_word_t * Y1, uECC_word_t * Z1,\n",
    "        uECC_Curve curve);\n",
    "    void (*x_side)(uECC_word_t *result, uECC_word_t *x, uECC_Curve curve);\n",
    "    void (*mmod_fast)(uECC_word_t *result, uECC_word_t *product);\n",
    "};\n",
    "```\n",
    "\n",
    "\n",
    "- hex strings im C-Code\n",
    "- string2scalar: hex string to unsigned int vector\n",
    "    - strlen(str)\n",
    "    - hex2bin: hex string to bytes vector\n",
    "    - uECC_vli_bytesToNative\n",
    "\n"
   ]
  },
  {
   "cell_type": "markdown",
   "id": "3f589ce1-b463-4b7b-bc7f-d47f3ea3cf4d",
   "metadata": {},
   "source": [
    "## RNG\n",
    "\n",
    "Wird nur benutzt in:\n",
    "\n",
    " - Schlüsselerzeugung in Funktion `uECC_make_key (ecc_dh.c)`\n",
    " - Erzeugung von Zufallszahl `k` in `uECC_sign (ecc_dsa.c)`\n",
    "\n",
    "Für SCA-Tests kann beides in der Testbench erzeugt werden, dann ist nur \n",
    "`uECC_sign_with_k` zu testen."
   ]
  },
  {
   "cell_type": "markdown",
   "id": "9a84af7b-cf2a-43fa-8196-0495e91f554f",
   "metadata": {},
   "source": [
    "# Adapter\n",
    "\n",
    "Use the Arduino Due as USB to USART `adapter` with a second Arduino Due as `target` device. \n",
    "\n",
    "- The master interface of `adapter` is USART1, i.e. Pins 16 (TX2) and 17 (RX2).\n",
    "- The slave interface of `target` device is USART1, i.e. Pins 17 (RX2) and 16 (TX2).\n",
    "- Cross-Connect the Pins 16 and 17 of the two devices.\n",
    "- Connect GND of the two devices.\n",
    "- Connect Due Pin A6 (analog side) of `target`to GND to select USART1 as slave interface.\n",
    "\n"
   ]
  }
 ],
 "metadata": {
  "kernelspec": {
   "display_name": "Python 3 (ipykernel)",
   "language": "python",
   "name": "python3"
  },
  "language_info": {
   "codemirror_mode": {
    "name": "ipython",
    "version": 3
   },
   "file_extension": ".py",
   "mimetype": "text/x-python",
   "name": "python",
   "nbconvert_exporter": "python",
   "pygments_lexer": "ipython3",
   "version": "3.11.2"
  }
 },
 "nbformat": 4,
 "nbformat_minor": 5
}
