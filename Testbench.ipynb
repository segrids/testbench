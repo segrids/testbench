{
 "cells": [
  {
   "cell_type": "markdown",
   "id": "7f7cc4dd-81dd-4660-8506-10d7f5d2c819",
   "metadata": {},
   "source": [
    "# Testbench"
   ]
  },
  {
   "cell_type": "markdown",
   "id": "ab6487d5-b160-42d8-83c3-8d332e36097e",
   "metadata": {},
   "source": [
    "# Requirements\n",
    "\n",
    "## Packages\n",
    "\n",
    "    sudo apt install python3-serial\n",
    "    sudo apt install gcc-arm-none-eabi binutils-arm-none-eabi\n",
    "    pip install progress\n",
    "\n",
    "## Permissions\n",
    "\n",
    "Add yourself to the `dialout` group:\n",
    "\n",
    "    sudo usermod -a -G dialout $USER"
   ]
  },
  {
   "cell_type": "markdown",
   "id": "4cec8068-891a-4c0e-9f99-b394b4ab853b",
   "metadata": {},
   "source": [
    "# Sam3x8e (Arduino Due)\n",
    "\n",
    "## Building\n",
    "\n",
    "Run in the `testbench` folder:\n",
    "\n",
    "    make bootloader\n",
    "    make sam3x8e-libflash\n",
    "    make sam3x8e-flash.elf\n",
    "\n",
    "## Programming\n",
    "\n",
    "The python package contains flashing without an external programmer. Run in the `testbench` folder:\n",
    "\n",
    "    make sam3x8e-flash PORT=ttyACM0\n",
    "\n",
    "## Testing\n",
    "\n",
    "Sanity tests with the Loader client: "
   ]
  },
  {
   "cell_type": "code",
   "execution_count": 4,
   "id": "73f02a5e-8aa3-441c-acf4-d1ca3a92b8e3",
   "metadata": {},
   "outputs": [],
   "source": [
    "from py import *\n",
    "l = loader.loader(\"/dev/ttyACM0\")"
   ]
  },
  {
   "cell_type": "code",
   "execution_count": 5,
   "id": "2111173e-2ef7-4069-b438-4adbd55ab1be",
   "metadata": {},
   "outputs": [
    {
     "data": {
      "text/plain": [
       "b'abc'"
      ]
     },
     "execution_count": 5,
     "metadata": {},
     "output_type": "execute_result"
    }
   ],
   "source": [
    "l.echo(b\"abc\")"
   ]
  },
  {
   "cell_type": "code",
   "execution_count": 7,
   "id": "f80eb782-4560-4a3e-a7f7-55c20289b7a8",
   "metadata": {},
   "outputs": [
    {
     "data": {
      "text/plain": [
       "'0x29e50d2e'"
      ]
     },
     "execution_count": 7,
     "metadata": {},
     "output_type": "execute_result"
    }
   ],
   "source": [
    "hex(l.read_word(0x2000_0000))"
   ]
  },
  {
   "cell_type": "markdown",
   "id": "9b17ef5b-938c-437e-be17-b4e3ab34c517",
   "metadata": {},
   "source": [
    "# HT32F52\n",
    "\n",
    "## Hardware\n",
    "\n",
    "We use the [HT32 Starter Kit](https://www.holtek.com.tw/WebAPI/bf86d133-ffb5-41e0-9ec2-0a9a29f075a7?_gl=1*x1jh1m*_ga*NTQwODExMTU3LjE3Mzg1OTIxMjg.*_ga_QJGHM3VFKP*MTczODU5MjEyNy4xLjAuMTczODU5MjEyNy4wLjAuMA..*_ga_2HPXRBSN2N*MTczODU5MjEyNy4xLjAuMTczODU5MjEyNy4wLjAuMA..).\n",
    "\n",
    "Instead of the e-Link32 lite interface on the ESK32-30501 eval board, we use a seperate [CP210x USB to UART bridge] with the follwing connections:\n",
    "\n",
    " CP210x | ESK32-30501 | HT32F52352\n",
    " ------ | ----------- | ----------\n",
    " 3V3    | VDD         | ...\n",
    " DTR    | nRST        | ...\n",
    " RXI    | ...         | ...\n",
    " TXD    | ...         | ...\n",
    " GND    | GND         | ...\n",
    "\n",
    "## ISP Bootloader\n",
    "\n",
    "To start the ISP bootloader at power up, connect pin A9 to GND.\n",
    "\n",
    "## Python Classes\n",
    "\n",
    "Class        | Python Module          | Brief description\n",
    "------------ | ---------------------- | ------------------------------------------\n",
    "ISP          | py/ht32/isp.py         | Bootloader client for use in flash.py\n",
    "Ht32Serial   | py/ht32/ht32serial.py  | Wraps around serial.Serial\n",
    "Apdu         | py/apdu.py             | APDU client\n",
    "Target       | py/target.py           | Standard commands or prototypes\n",
    "H32Target    | py/ht32/ht32target.py  | HT32 specific commands or implementations\n",
    "\n",
    "## Building and programming\n",
    "\n",
    "In the `testbench`folder call:\n",
    "\n",
    "    make ht32-flash.bin\n",
    "    make ht32-flash PORT=ttyUSB0\n",
    "\n",
    "## Testing"
   ]
  },
  {
   "cell_type": "code",
   "execution_count": 8,
   "id": "5c9ce251-e117-4a2d-89f4-e9838f488ddb",
   "metadata": {},
   "outputs": [],
   "source": [
    "import py"
   ]
  },
  {
   "cell_type": "code",
   "execution_count": 9,
   "id": "18fca183-1bde-4689-8c83-bb96a48e8392",
   "metadata": {},
   "outputs": [],
   "source": [
    "s = py.Ht32Serial(\"/dev/ttyACM0\")"
   ]
  },
  {
   "cell_type": "code",
   "execution_count": 10,
   "id": "368b22b3-e72f-4d1d-a4e5-181bdb6be420",
   "metadata": {},
   "outputs": [],
   "source": [
    "h = loader.Loader(s)"
   ]
  },
  {
   "cell_type": "code",
   "execution_count": 11,
   "id": "5908baa8-96f4-4f5d-a0cf-776da6bc69bc",
   "metadata": {},
   "outputs": [
    {
     "data": {
      "text/plain": [
       "b'abcdefg'"
      ]
     },
     "execution_count": 11,
     "metadata": {},
     "output_type": "execute_result"
    }
   ],
   "source": [
    "h.echo(b\"abcdefg\")"
   ]
  },
  {
   "cell_type": "code",
   "execution_count": null,
   "id": "ea298545-88e2-4f96-984a-8114fb00725a",
   "metadata": {},
   "outputs": [],
   "source": []
  }
 ],
 "metadata": {
  "kernelspec": {
   "display_name": "Python 3 (ipykernel)",
   "language": "python",
   "name": "python3"
  },
  "language_info": {
   "codemirror_mode": {
    "name": "ipython",
    "version": 3
   },
   "file_extension": ".py",
   "mimetype": "text/x-python",
   "name": "python",
   "nbconvert_exporter": "python",
   "pygments_lexer": "ipython3",
   "version": "3.11.2"
  }
 },
 "nbformat": 4,
 "nbformat_minor": 5
}
