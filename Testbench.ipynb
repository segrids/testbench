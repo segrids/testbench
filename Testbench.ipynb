{
 "cells": [
  {
   "cell_type": "markdown",
   "id": "7f7cc4dd-81dd-4660-8506-10d7f5d2c819",
   "metadata": {},
   "source": [
    "# Testbench"
   ]
  },
  {
   "cell_type": "markdown",
   "id": "ab6487d5-b160-42d8-83c3-8d332e36097e",
   "metadata": {},
   "source": [
    "# Pakete installieren\n",
    "\n",
    "    sudo apt install gcc-arm-none-eabi binutils-arm-none-eabi\n",
    "    pip install docopt progress"
   ]
  },
  {
   "cell_type": "markdown",
   "id": "4cec8068-891a-4c0e-9f99-b394b4ab853b",
   "metadata": {},
   "source": [
    "## Kompilieren\n",
    "\n",
    "Vom `testbench`-Verzeichnis aus:\n",
    "\n",
    "    make bootloader\n",
    "    make sam3x8e-libflash\n",
    "    make sam3x8e-flash.elf\n",
    "\n",
    "## Flashen\n",
    "\n",
    "    make sam3x8e-flash PORT=ttyACM0\n",
    "\n"
   ]
  },
  {
   "cell_type": "code",
   "execution_count": 5,
   "id": "73f02a5e-8aa3-441c-acf4-d1ca3a92b8e3",
   "metadata": {},
   "outputs": [],
   "source": [
    "from py import *\n",
    "l = loader(\"/dev/ttyACM0\")\n",
    "l.echo(b\"abc\")"
   ]
  },
  {
   "cell_type": "code",
   "execution_count": null,
   "id": "9f1c6838-8681-4151-be28-5295afc91d68",
   "metadata": {},
   "outputs": [],
   "source": []
  }
 ],
 "metadata": {
  "kernelspec": {
   "display_name": "Python 3 (ipykernel)",
   "language": "python",
   "name": "python3"
  },
  "language_info": {
   "codemirror_mode": {
    "name": "ipython",
    "version": 3
   },
   "file_extension": ".py",
   "mimetype": "text/x-python",
   "name": "python",
   "nbconvert_exporter": "python",
   "pygments_lexer": "ipython3",
   "version": "3.11.2"
  }
 },
 "nbformat": 4,
 "nbformat_minor": 5
}
